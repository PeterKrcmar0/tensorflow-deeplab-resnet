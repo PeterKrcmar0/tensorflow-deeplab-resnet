{
 "cells": [
  {
   "cell_type": "code",
   "execution_count": 2,
   "metadata": {},
   "outputs": [],
   "source": [
    "import matplotlib.pyplot as plt\n",
    "%config Completer.use_jedi = False"
   ]
  },
  {
   "cell_type": "code",
   "execution_count": 35,
   "metadata": {},
   "outputs": [],
   "source": [
    "from PIL import Image\n",
    "import numpy as np"
   ]
  },
  {
   "cell_type": "code",
   "execution_count": 44,
   "metadata": {},
   "outputs": [
    {
     "name": "stdout",
     "output_type": "stream",
     "text": [
      "(500, 334, 3) (500, 334, 3)\n"
     ]
    }
   ],
   "source": [
    "im1 = np.array(Image.open('misc/oups.png'))\n",
    "im2 = np.array(Image.open('misc/2007_000129.jpg'))\n",
    "\n",
    "print(im1.shape, im2.shape)\n",
    "\n",
    "plt.imsave('misc/test.png', im2)"
   ]
  },
  {
   "cell_type": "code",
   "execution_count": 48,
   "metadata": {},
   "outputs": [
    {
     "name": "stdout",
     "output_type": "stream",
     "text": [
      "(500, 334, 4)\n"
     ]
    },
    {
     "data": {
      "text/plain": [
       "0"
      ]
     },
     "execution_count": 48,
     "metadata": {},
     "output_type": "execute_result"
    }
   ],
   "source": [
    "im3 = np.array(Image.open('misc/test.png'))\n",
    "\n",
    "print(im3.shape)\n",
    "\n",
    "np.sum(im2 - im3[:,:,:-1])"
   ]
  },
  {
   "cell_type": "code",
   "execution_count": 1,
   "metadata": {},
   "outputs": [],
   "source": [
    "import numpy as np"
   ]
  },
  {
   "cell_type": "code",
   "execution_count": 2,
   "metadata": {},
   "outputs": [],
   "source": [
    "c28 = np.load('/home/peter/Downloads/confusion_matrix_28k.npy')\n",
    "c30 = np.load('/home/peter/Downloads/confusion_matrix_30k.npy')\n",
    "c32 = np.load('/home/peter/Downloads/confusion_matrix_32k.npy')"
   ]
  },
  {
   "cell_type": "code",
   "execution_count": 26,
   "metadata": {},
   "outputs": [],
   "source": [
    "def compute_iuo(c):\n",
    "    TP = np.diag(c)\n",
    "    FP = c.sum(axis=0) - np.diag(c)  \n",
    "    FN = c.sum(axis=1) - np.diag(c)\n",
    "    TN = c.sum() - (FP + FN + TP)\n",
    "    IOU = TP / (TP + FP + FN)\n",
    "    \n",
    "    return IOU * 100\n",
    "\n",
    "def mean_iou(c):\n",
    "    return np.nanmean(compute_iuo(c))"
   ]
  },
  {
   "cell_type": "code",
   "execution_count": 27,
   "metadata": {},
   "outputs": [],
   "source": [
    "VOC_CLASSES = [\n",
    "    'background', 'aeroplane', 'bicycle', 'bird', 'boat', 'bottle', 'bus',\n",
    "    'car', 'cat', 'chair', 'cow', 'diningtable', 'dog', 'horse', 'motorbike',\n",
    "    'person', 'potted plant', 'sheep', 'sofa', 'train', 'tv/monitor']"
   ]
  },
  {
   "cell_type": "code",
   "execution_count": 51,
   "metadata": {},
   "outputs": [
    {
     "name": "stdout",
     "output_type": "stream",
     "text": [
      " 28k     30k     32k    class\n",
      "-----------------------------------\n",
      " 80.7    75.8    78.7   background\n",
      " 35.4    31.8    31.6   aeroplane\n",
      " 14.1    13.8    15.7   bicycle\n",
      " 15.6    12.2    15.8   bird\n",
      " 15.4    10.2    14.5   boat\n",
      "  1.3     9.2    11.5   bottle\n",
      " 48.4    42.2    47.7   bus\n",
      " 35.4    37.0    31.8   car\n",
      " 18.7    17.4    23.0   cat\n",
      "  6.1     6.7     8.2   chair\n",
      " 24.1     0.0    21.3   cow\n",
      " 10.9    11.4     4.6   diningtable\n",
      " 24.9     8.0    23.4   dog\n",
      " 15.1    21.4    23.4   horse\n",
      " 31.0    24.9    34.0   motorbike\n",
      " 44.0    41.3    45.7   person\n",
      " 11.2     2.4     9.9   potted plant\n",
      " 18.1    16.5    22.1   sheep\n",
      "  9.9    13.1    14.2   sofa\n",
      " 34.1    25.6    32.2   train\n",
      " 26.6    26.3    25.4   tv/monitor\n",
      "-----------------------------------\n",
      " 24.8    21.3    25.5   mean\n"
     ]
    }
   ],
   "source": [
    "iuo28 = compute_iuo(c28)\n",
    "iuo30 = compute_iuo(c30)\n",
    "iuo32 = compute_iuo(c32)\n",
    "\n",
    "print(' 28k     30k     32k    class')\n",
    "print('-----------------------------------')\n",
    "for (a,b,c,i) in zip(iuo28, iuo30, iuo32, VOC_CLASSES):\n",
    "    print(f'{a:5.1f}   {b:5.1f}   {c:5.1f}   {i}')\n",
    "print('-----------------------------------')\n",
    "print(f'{mean_iou(c28):5.1f}   {mean_iou(c30):5.1f}   {mean_iou(c32):5.1f}   mean')"
   ]
  },
  {
   "cell_type": "code",
   "execution_count": null,
   "metadata": {},
   "outputs": [],
   "source": []
  }
 ],
 "metadata": {
  "kernelspec": {
   "display_name": "Python 3",
   "language": "python",
   "name": "python3"
  },
  "language_info": {
   "codemirror_mode": {
    "name": "ipython",
    "version": 3
   },
   "file_extension": ".py",
   "mimetype": "text/x-python",
   "name": "python",
   "nbconvert_exporter": "python",
   "pygments_lexer": "ipython3",
   "version": "3.8.5"
  }
 },
 "nbformat": 4,
 "nbformat_minor": 5
}
