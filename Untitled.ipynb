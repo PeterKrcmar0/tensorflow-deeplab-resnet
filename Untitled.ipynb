{
 "cells": [
  {
   "cell_type": "code",
   "execution_count": 2,
   "id": "sufficient-sunset",
   "metadata": {},
   "outputs": [],
   "source": [
    "import matplotlib.pyplot as plt\n",
    "%config Completer.use_jedi = False"
   ]
  },
  {
   "cell_type": "code",
   "execution_count": 35,
   "id": "listed-uncertainty",
   "metadata": {},
   "outputs": [],
   "source": [
    "from PIL import Image\n",
    "import numpy as np"
   ]
  },
  {
   "cell_type": "code",
   "execution_count": 44,
   "id": "appreciated-snake",
   "metadata": {},
   "outputs": [
    {
     "name": "stdout",
     "output_type": "stream",
     "text": [
      "(500, 334, 3) (500, 334, 3)\n"
     ]
    }
   ],
   "source": [
    "im1 = np.array(Image.open('misc/oups.png'))\n",
    "im2 = np.array(Image.open('misc/2007_000129.jpg'))\n",
    "\n",
    "print(im1.shape, im2.shape)\n",
    "\n",
    "plt.imsave('misc/test.png', im2)"
   ]
  },
  {
   "cell_type": "code",
   "execution_count": 48,
   "id": "champion-serbia",
   "metadata": {},
   "outputs": [
    {
     "name": "stdout",
     "output_type": "stream",
     "text": [
      "(500, 334, 4)\n"
     ]
    },
    {
     "data": {
      "text/plain": [
       "0"
      ]
     },
     "execution_count": 48,
     "metadata": {},
     "output_type": "execute_result"
    }
   ],
   "source": [
    "im3 = np.array(Image.open('misc/test.png'))\n",
    "\n",
    "print(im3.shape)\n",
    "\n",
    "np.sum(im2 - im3[:,:,:-1])"
   ]
  },
  {
   "cell_type": "code",
   "execution_count": null,
   "id": "dress-saying",
   "metadata": {},
   "outputs": [],
   "source": []
  }
 ],
 "metadata": {
  "kernelspec": {
   "display_name": "Python 3",
   "language": "python",
   "name": "python3"
  },
  "language_info": {
   "codemirror_mode": {
    "name": "ipython",
    "version": 3
   },
   "file_extension": ".py",
   "mimetype": "text/x-python",
   "name": "python",
   "nbconvert_exporter": "python",
   "pygments_lexer": "ipython3",
   "version": "3.6.13"
  }
 },
 "nbformat": 4,
 "nbformat_minor": 5
}
